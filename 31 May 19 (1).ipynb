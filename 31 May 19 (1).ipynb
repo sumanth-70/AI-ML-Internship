{
 "cells": [
  {
   "cell_type": "markdown",
   "metadata": {},
   "source": [
    "# AI and ML INTERNSHIP\n",
    "\n",
    "### Day : 7\n",
    "\n",
    "### Date:31th May 2019."
   ]
  },
  {
   "cell_type": "markdown",
   "metadata": {},
   "source": [
    "### Problem : 1\n",
    "\n",
    "### Problem Statement:How many runs of Dhoni On 4/23/2008 Chennai Super Kings vs Mumbai Indians Match ( Use Oops concepts) Datasets:\n",
    "\n",
    "* Match.csv => Match details (match id , teams, location etc)\n",
    "* Player.csv => Player Details (player id, name,team name, etc)\n",
    "* Ball_By_Ball => Ball to ball details (match id , striker, runs, over id, ball id etc)"
   ]
  },
  {
   "cell_type": "code",
   "execution_count": 30,
   "metadata": {},
   "outputs": [
    {
     "data": {
      "text/plain": [
       "30"
      ]
     },
     "execution_count": 30,
     "metadata": {},
     "output_type": "execute_result"
    }
   ],
   "source": [
    "import pandas as pd\n",
    "class dhoni():    \n",
    "    def getMatchId():\n",
    "        df1=pd.read_csv('DataFiles/Match.csv')\n",
    "        matchid=int(df1[df1['match_date']=='4/23/2008']['match_id'])\n",
    "        return matchid\n",
    "\n",
    "\n",
    "    def getPlayerId():\n",
    "        df2=pd.read_csv('DataFiles/Player.csv')\n",
    "        playerid=int(df2[df2['Player_Name']=='MS Dhoni']['Player_Id'])\n",
    "        return playerid\n",
    "\n",
    "    def runs(self):\n",
    "        df3=pd.read_csv('DataFiles/Ball_By_Ball.csv',usecols=['MatcH_id','Runs_Scored','Match_Date','Striker'])\n",
    "        matchid=dhoni.getMatchId()\n",
    "        playerid=dhoni.getPlayerId()\n",
    "        runs=0\n",
    "        for i in range(len(df3)):\n",
    "            if df3.MatcH_id[i]==matchid and df3.Striker[i]==playerid:\n",
    "                runs=runs+df3.Runs_Scored[i]\n",
    "        return runs\n",
    "object=dhoni()\n",
    "object.runs()"
   ]
  },
  {
   "cell_type": "markdown",
   "metadata": {},
   "source": [
    "### Problem : 2\n",
    "\n",
    "### Problem Statement:On 4/23/2008,Chennai Super Kings vs Mumbai Indians Match...\n",
    "\n",
    "* Plot a bar graph for scores of all the players in the Mumbai Indians team"
   ]
  },
  {
   "cell_type": "code",
   "execution_count": 27,
   "metadata": {},
   "outputs": [
    {
     "data": {
      "image/png": "[encoded data removed]",
      "text/plain": [
       "<Figure size 720x360 with 1 Axes>"
      ]
     },
     "metadata": {
      "needs_background": "light"
     },
     "output_type": "display_data"
    }
   ],
   "source": [
    "import matplotlib.pyplot as plt\n",
    "import pandas as pd \n",
    "import numpy as np \n",
    "class DataList:\n",
    "    def data_list1(s,filename):\n",
    "        d=pd.read_csv(filename)\n",
    "        return d\n",
    "    def compar(s,df,tm1,tm2,data):\n",
    "        for i in df.values:\n",
    "            if(i[2]==tm1 and i[3]==tm2 and i[4]==data):\n",
    "                return i[1]\n",
    "    def compar1(s,df3,a,b):\n",
    "        l1=[]\n",
    "        l2=[]\n",
    "        for i in df3.values:\n",
    "            if(i[2]==b and i[10]==a):\n",
    "                l1.append(i[4])\n",
    "                l2.append(i[5])\n",
    "        return l1\n",
    "    def compar2(s,df1,name):\n",
    "        l3=[]\n",
    "        for j in range(0,len(playerList)):\n",
    "            for i in df1.values:\n",
    "                if(i[2]==playerList[j]):\n",
    "                    l3.append(i[1])\n",
    "        return l3\n",
    "    def Runs(s,df2,matchid,plyerid,date):\n",
    "        l4=[]\n",
    "        for j in range (0,len(plyerid)):\n",
    "            sum=0\n",
    "            for i in df2.values:\n",
    "                if(i[0]==matchid  and i[29]==plyerid[j] and i[27]==date):\n",
    "                    sum=sum+i[8]\n",
    "            l4.append(sum)\n",
    "        return l4\n",
    "    def bar_graph(s,u,w):\n",
    "        x=1/2\n",
    "        plt.bar(u,w,x,color=('cyan','yellow','pink'))\n",
    "        plt.rcParams['figure.figsize']=[15,10]\n",
    "        plt.xlabel('PlayerList')\n",
    "        plt.ylabel('Runs')\n",
    "        plt.title('Bar graph for all the players in the Mumbai Indians team')\n",
    "        plt.show\n",
    "dl=DataList()\n",
    "df=dl.data_list1('DataFiles/Match.csv')\n",
    "df1=dl.data_list1('DataFiles/Player.csv')\n",
    "df2=dl.data_list1('DataFiles/Ball_By_Ball.csv')\n",
    "df3=dl.data_list1('DataFiles/Player_match.csv')\n",
    "df4=dl.data_list1('DataFiles/team.csv')\n",
    "matchId=dl.compar(df,'Chennai Super Kings','Mumbai Indians','4/23/2008')\n",
    "playerList=dl.compar1(df3,'Mumbai Indians',matchId)\n",
    "playerId=dl.compar2(df1,playerList)\n",
    "run=dl.Runs(df2,matchId,playerId,'4/23/2008')\n",
    "dl.bar_graph(playerList,run)"
   ]
  },
  {
   "cell_type": "code",
   "execution_count": 29,
   "metadata": {},
   "outputs": [
    {
     "data": {
      "text/plain": [
       "30"
      ]
     },
     "execution_count": 29,
     "metadata": {},
     "output_type": "execute_result"
    }
   ],
   "source": [
    " "
   ]
  },
  {
   "cell_type": "code",
   "execution_count": null,
   "metadata": {},
   "outputs": [],
   "source": []
  }
 ],
 "metadata": {
  "kernelspec": {
   "display_name": "Python 3",
   "language": "python",
   "name": "python3"
  },
  "language_info": {
   "codemirror_mode": {
    "name": "ipython",
    "version": 3
   },
   "file_extension": ".py",
   "mimetype": "text/x-python",
   "name": "python",
   "nbconvert_exporter": "python",
   "pygments_lexer": "ipython3",
   "version": "3.7.3"
  }
 },
 "nbformat": 4,
 "nbformat_minor": 2
}
